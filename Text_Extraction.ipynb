{
  "cells": [
    {
      "cell_type": "markdown",
      "metadata": {
        "id": "view-in-github",
        "colab_type": "text"
      },
      "source": [
        "<a href=\"https://colab.research.google.com/github/anik314159/RVIL-CDIP/blob/main/Text_Extraction.ipynb\" target=\"_parent\"><img src=\"https://colab.research.google.com/assets/colab-badge.svg\" alt=\"Open In Colab\"/></a>"
      ]
    },
    {
      "cell_type": "code",
      "execution_count": null,
      "metadata": {
        "colab": {
          "base_uri": "https://localhost:8080/"
        },
        "id": "JgkALQdMYv-B",
        "outputId": "ce6fef0e-0a60-4021-e7dc-c88282b8dc4f"
      },
      "outputs": [
        {
          "output_type": "stream",
          "name": "stdout",
          "text": [
            "Reading package lists... Done\n",
            "Building dependency tree       \n",
            "Reading state information... Done\n",
            "tesseract-ocr is already the newest version (4.00~git2288-10f4998a-2).\n",
            "The following package was automatically installed and is no longer required:\n",
            "  libnvidia-common-460\n",
            "Use 'sudo apt autoremove' to remove it.\n",
            "0 upgraded, 0 newly installed, 0 to remove and 20 not upgraded.\n",
            "Looking in indexes: https://pypi.org/simple, https://us-python.pkg.dev/colab-wheels/public/simple/\n",
            "Requirement already satisfied: pytesseract in /usr/local/lib/python3.7/dist-packages (0.3.10)\n",
            "Requirement already satisfied: Pillow>=8.0.0 in /usr/local/lib/python3.7/dist-packages (from pytesseract) (9.2.0)\n",
            "Requirement already satisfied: packaging>=21.3 in /usr/local/lib/python3.7/dist-packages (from pytesseract) (21.3)\n",
            "Requirement already satisfied: pyparsing!=3.0.5,>=2.0.2 in /usr/local/lib/python3.7/dist-packages (from packaging>=21.3->pytesseract) (3.0.9)\n"
          ]
        }
      ],
      "source": [
        "!sudo apt install tesseract-ocr\n",
        "!pip install pytesseract"
      ]
    },
    {
      "cell_type": "code",
      "execution_count": null,
      "metadata": {
        "id": "Me4JajfeZbaI",
        "colab": {
          "base_uri": "https://localhost:8080/"
        },
        "outputId": "c91634a2-a3a8-495e-e590-ca47b9d1668a"
      },
      "outputs": [
        {
          "output_type": "stream",
          "name": "stdout",
          "text": [
            "Mounted at /content/drive\n"
          ]
        }
      ],
      "source": [
        "from google.colab import drive\n",
        "drive.mount('/content/drive')\n",
        "\n"
      ]
    },
    {
      "cell_type": "code",
      "execution_count": null,
      "metadata": {
        "id": "tIVeSJ7naV8i"
      },
      "outputs": [],
      "source": [
        "import pytesseract\n",
        "import shutil\n",
        "import os\n",
        "import random\n",
        "try:\n",
        " from PIL import Image\n",
        "except ImportError:\n",
        "  import Image"
      ]
    },
    {
      "cell_type": "code",
      "execution_count": null,
      "metadata": {
        "colab": {
          "base_uri": "https://localhost:8080/"
        },
        "id": "sv6poMpTOQcl",
        "outputId": "f5674bfd-4914-458d-8b66-c0d45de59355"
      },
      "outputs": [
        {
          "output_type": "stream",
          "name": "stdout",
          "text": [
            "900\n"
          ]
        }
      ],
      "source": [
        "import pathlib\n",
        "data_root = pathlib.Path('/content/drive/MyDrive/IndoML_Datathon_2022/validation/text_data')\n",
        "image_paths = []\n",
        "for item in data_root.iterdir():\n",
        "  image_paths.append(str(item))\n",
        "\n",
        "print(len(image_paths))\n"
      ]
    },
    {
      "cell_type": "code",
      "execution_count": null,
      "metadata": {
        "id": "LOCpQFnwQ2ru"
      },
      "outputs": [],
      "source": [
        "import pandas as pd\n",
        "labels_df = pd.read_csv('/content/drive/MyDrive/IndoML_Datathon_2022/train_labels.csv')\n",
        "\n",
        "file_path = '/content/drive/MyDrive/IndoML_Datathon_2022/validation/text_data/'\n"
      ]
    },
    {
      "cell_type": "code",
      "execution_count": null,
      "metadata": {
        "id": "scHrxaWvP0jz"
      },
      "outputs": [],
      "source": [
        "\n",
        "labels = []\n",
        "text_features = []\n",
        "image_pth = []\n",
        "cnt = 0;\n",
        "\n",
        "for path in image_paths:\n",
        "  if path.split('/')[-1].split('.')[0].isalnum() == False:\n",
        "    continue\n",
        "\n",
        "  num_ind = int(path.split(\"/\")[-1].split(\".\")[0])\n",
        "  txt_file_path = file_path + str(num_ind) + '.txt';\n",
        "  if os.path.exists(txt_file_path):\n",
        "    continue\n",
        "  \n",
        "  fp = open(txt_file_path, 'w')  \n",
        "  img_text = pytesseract.image_to_string(Image.open(path));\n",
        "  text_features.append(txt_file_path)\n",
        "  fp.write(img_text)\n",
        "  image_pth.append(path)\n",
        "  \n",
        "\n",
        "\n",
        "\n",
        "  \n"
      ]
    },
    {
      "cell_type": "code",
      "source": [
        "\n",
        "data_root = pathlib.Path('/content/drive/MyDrive/IndoML_Datathon_2022/validation/text_data')\n",
        "image_paths = []\n",
        "for item in data_root.iterdir():\n",
        "  image_paths.append(str(item))\n",
        "\n",
        "print(len(image_paths))\n"
      ],
      "metadata": {
        "id": "WW0edy40uo9Y",
        "outputId": "80693ae2-e953-4e8b-94cd-1bfced054f46",
        "colab": {
          "base_uri": "https://localhost:8080/"
        }
      },
      "execution_count": null,
      "outputs": [
        {
          "output_type": "stream",
          "name": "stdout",
          "text": [
            "900\n"
          ]
        }
      ]
    },
    {
      "cell_type": "code",
      "execution_count": null,
      "metadata": {
        "id": "ffXnkyrmSEh1"
      },
      "outputs": [],
      "source": [
        "Text_Data = pd.DataFrame(list(zip(image_pth,text_features,labels)), columns = ['image_Path' , 'Text_path' ,'Label'])\n",
        "Text_Data"
      ]
    },
    {
      "cell_type": "code",
      "execution_count": null,
      "metadata": {
        "id": "Q6DXe_5Im4oZ"
      },
      "outputs": [],
      "source": [
        "image_path_in_colab= '/content/drive/MyDrive/IndoML_Datathon_2022/train/train/10001.tif'\n",
        "extractedInformation = pytesseract.image_to_string(Image.open(image_path_in_colab))\n",
        "print(extractedInformation)"
      ]
    },
    {
      "cell_type": "code",
      "execution_count": null,
      "metadata": {
        "id": "JSyx7qLqrIG8"
      },
      "outputs": [],
      "source": [
        "extractedInformation = pytesseract.image_to_string(Image.open('/content/drive/MyDrive/IndoML_Datathon_2022/train/train/10001.tif'), lang='fra')\n",
        "print(extractedInformation)"
      ]
    },
    {
      "cell_type": "code",
      "execution_count": null,
      "metadata": {
        "id": "Gu7G_1e8Zo4c"
      },
      "outputs": [],
      "source": [
        "import cv2\n",
        "import os , argparse\n",
        "import pytesseract\n",
        "from PIL import Image"
      ]
    },
    {
      "cell_type": "code",
      "execution_count": null,
      "metadata": {
        "id": "EO25mYPWeWCz"
      },
      "outputs": [],
      "source": [
        "import sys\n",
        "sys.argv = ['']\n",
        "del sys\n"
      ]
    },
    {
      "cell_type": "code",
      "execution_count": null,
      "metadata": {
        "id": "9pCyiq6YaKqv"
      },
      "outputs": [],
      "source": [
        "ap=argparse.ArgumentParser()\n",
        "ap.add_argument('-i')\n",
        "ap.add_argument('-p')\n",
        "args=vars(ap.parse_args())"
      ]
    },
    {
      "cell_type": "code",
      "execution_count": null,
      "metadata": {
        "id": "SNA_EY5YbBTd"
      },
      "outputs": [],
      "source": [
        "print(pytesseract.image_to_string(Image.open('/content/drive/MyDrive/IndoML_Datathon_2022/train/train/567.tif')))"
      ]
    },
    {
      "cell_type": "code",
      "execution_count": null,
      "metadata": {
        "id": "bEsHa-RVfBda"
      },
      "outputs": [],
      "source": [
        "extractedInformation = pytesseract.image_to_string(Image.open('test-european.tif'), lang='fra')\n",
        "print(extractedInformation)"
      ]
    },
    {
      "cell_type": "code",
      "execution_count": null,
      "metadata": {
        "id": "izWIfXW0qbYn"
      },
      "outputs": [],
      "source": []
    }
  ],
  "metadata": {
    "colab": {
      "collapsed_sections": [],
      "provenance": [],
      "include_colab_link": true
    },
    "kernelspec": {
      "display_name": "Python 3",
      "name": "python3"
    },
    "language_info": {
      "name": "python"
    }
  },
  "nbformat": 4,
  "nbformat_minor": 0
}