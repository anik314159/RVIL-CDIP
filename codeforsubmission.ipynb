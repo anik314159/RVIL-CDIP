{
  "nbformat": 4,
  "nbformat_minor": 0,
  "metadata": {
    "colab": {
      "provenance": [],
      "collapsed_sections": [],
      "include_colab_link": true
    },
    "kernelspec": {
      "name": "python3",
      "display_name": "Python 3"
    },
    "language_info": {
      "name": "python"
    }
  },
  "cells": [
    {
      "cell_type": "markdown",
      "metadata": {
        "id": "view-in-github",
        "colab_type": "text"
      },
      "source": [
        "<a href=\"https://colab.research.google.com/github/anik314159/RVIL-CDIP/blob/main/codeforsubmission.ipynb\" target=\"_parent\"><img src=\"https://colab.research.google.com/assets/colab-badge.svg\" alt=\"Open In Colab\"/></a>"
      ]
    },
    {
      "cell_type": "code",
      "source": [
        "import spacy \n",
        "import nltk\n",
        "import re\n",
        "import cv2\n",
        "import pathlib\n",
        "import tensorflow as tf\n",
        "import numpy as np\n",
        "import pandas as pd"
      ],
      "metadata": {
        "id": "c1NdiUIGNXuz"
      },
      "execution_count": null,
      "outputs": []
    },
    {
      "cell_type": "code",
      "execution_count": null,
      "metadata": {
        "id": "9BJIH6zOu9TK"
      },
      "outputs": [],
      "source": [
        "\n",
        "pred_labels = []\n",
        "\n",
        "#populate this"
      ]
    },
    {
      "cell_type": "code",
      "source": [
        "from google.colab import drive\n",
        "drive.mount('/content/drive')"
      ],
      "metadata": {
        "colab": {
          "base_uri": "https://localhost:8080/"
        },
        "id": "2ZE68zFhMDrR",
        "outputId": "a00cc89f-cb1c-445c-c5cf-4283651759eb"
      },
      "execution_count": null,
      "outputs": [
        {
          "output_type": "stream",
          "name": "stdout",
          "text": [
            "Mounted at /content/drive\n"
          ]
        }
      ]
    },
    {
      "cell_type": "code",
      "source": [
        "img_data_root = pathlib.Path('/content/drive/MyDrive/IndoML_Datathon_2022/validation/validation')\n",
        "text_data_root = pathlib.Path('/content/drive/MyDrive/IndoML_Datathon_2022/validation/text_data')"
      ],
      "metadata": {
        "id": "9AUv4b7YJ1r1"
      },
      "execution_count": null,
      "outputs": []
    },
    {
      "cell_type": "code",
      "source": [],
      "metadata": {
        "id": "WRh9X2B3LoYl"
      },
      "execution_count": null,
      "outputs": []
    },
    {
      "cell_type": "code",
      "source": [
        "def get_text_from_path(path):\n",
        "    with open(path) as f:\n",
        "        lines = f.readlines()\n",
        "        lines  = ' '.join(lines)\n",
        "        f.close()\n",
        "    return lines"
      ],
      "metadata": {
        "id": "O8M0VyJMLbUw"
      },
      "execution_count": null,
      "outputs": []
    },
    {
      "cell_type": "code",
      "source": [
        "def get_file_paths_and_labels(img_data_root, text_data_root):\n",
        "    img_paths = [str(path) for path in img_data_root.glob('**/*.tif')]\n",
        "    text_paths = [str(path) for path in text_data_root.glob('**/*.txt')]\n",
        "    \n",
        "    return img_paths, text_paths\n",
        "\n"
      ],
      "metadata": {
        "id": "vCqC0KS0J1pk"
      },
      "execution_count": null,
      "outputs": []
    },
    {
      "cell_type": "code",
      "source": [
        "text_data = []\n",
        "img_paths , text_paths =  get_file_paths_and_labels(img_data_root, text_data_root);\n",
        "for path in text_paths:\n",
        "  text_data.append(get_text_from_path(path))\n"
      ],
      "metadata": {
        "id": "Q5hev5aZvRPl"
      },
      "execution_count": null,
      "outputs": []
    },
    {
      "cell_type": "code",
      "source": [
        "df = pd.DataFrame(list(zip(text_paths, text_data, img_paths)),\n",
        "               columns =['text_paths','texts', 'img_paths'])\n",
        "\n",
        "# Merged Dataframe\n",
        "df.head()"
      ],
      "metadata": {
        "colab": {
          "base_uri": "https://localhost:8080/",
          "height": 206
        },
        "id": "C7Oi5B7YMKeD",
        "outputId": "4718db03-462c-431d-80a6-cdc5e27de5bc"
      },
      "execution_count": null,
      "outputs": [
        {
          "output_type": "execute_result",
          "data": {
            "text/plain": [
              "                                          text_paths  \\\n",
              "0  /content/drive/MyDrive/IndoML_Datathon_2022/va...   \n",
              "1  /content/drive/MyDrive/IndoML_Datathon_2022/va...   \n",
              "2  /content/drive/MyDrive/IndoML_Datathon_2022/va...   \n",
              "3  /content/drive/MyDrive/IndoML_Datathon_2022/va...   \n",
              "4  /content/drive/MyDrive/IndoML_Datathon_2022/va...   \n",
              "\n",
              "                                               texts  \\\n",
              "0    \\n \\n M@§ Tobacco\\n \\n industry _,\\n firing ...   \n",
              "1  1820\\n \\n Inhalation of Sidestream Cigarette\\n...   \n",
              "2  cAI\\n \\n IESE\\n \\n 4KWUZ82105\\n \\n LABORATORIE...   \n",
              "3  SPECIFICATION CHANGE PROPOSAL NO._89-395 _\\n \\...   \n",
              "4  2083779468\\n \\n  \\n \\n i\\n um Apuy puz\\n \\n On...   \n",
              "\n",
              "                                           img_paths  \n",
              "0  /content/drive/MyDrive/IndoML_Datathon_2022/va...  \n",
              "1  /content/drive/MyDrive/IndoML_Datathon_2022/va...  \n",
              "2  /content/drive/MyDrive/IndoML_Datathon_2022/va...  \n",
              "3  /content/drive/MyDrive/IndoML_Datathon_2022/va...  \n",
              "4  /content/drive/MyDrive/IndoML_Datathon_2022/va...  "
            ],
            "text/html": [
              "\n",
              "  <div id=\"df-1a87a5bf-e8c7-423f-98d3-f20b63076c2a\">\n",
              "    <div class=\"colab-df-container\">\n",
              "      <div>\n",
              "<style scoped>\n",
              "    .dataframe tbody tr th:only-of-type {\n",
              "        vertical-align: middle;\n",
              "    }\n",
              "\n",
              "    .dataframe tbody tr th {\n",
              "        vertical-align: top;\n",
              "    }\n",
              "\n",
              "    .dataframe thead th {\n",
              "        text-align: right;\n",
              "    }\n",
              "</style>\n",
              "<table border=\"1\" class=\"dataframe\">\n",
              "  <thead>\n",
              "    <tr style=\"text-align: right;\">\n",
              "      <th></th>\n",
              "      <th>text_paths</th>\n",
              "      <th>texts</th>\n",
              "      <th>img_paths</th>\n",
              "    </tr>\n",
              "  </thead>\n",
              "  <tbody>\n",
              "    <tr>\n",
              "      <th>0</th>\n",
              "      <td>/content/drive/MyDrive/IndoML_Datathon_2022/va...</td>\n",
              "      <td>\\n \\n M@§ Tobacco\\n \\n industry _,\\n firing ...</td>\n",
              "      <td>/content/drive/MyDrive/IndoML_Datathon_2022/va...</td>\n",
              "    </tr>\n",
              "    <tr>\n",
              "      <th>1</th>\n",
              "      <td>/content/drive/MyDrive/IndoML_Datathon_2022/va...</td>\n",
              "      <td>1820\\n \\n Inhalation of Sidestream Cigarette\\n...</td>\n",
              "      <td>/content/drive/MyDrive/IndoML_Datathon_2022/va...</td>\n",
              "    </tr>\n",
              "    <tr>\n",
              "      <th>2</th>\n",
              "      <td>/content/drive/MyDrive/IndoML_Datathon_2022/va...</td>\n",
              "      <td>cAI\\n \\n IESE\\n \\n 4KWUZ82105\\n \\n LABORATORIE...</td>\n",
              "      <td>/content/drive/MyDrive/IndoML_Datathon_2022/va...</td>\n",
              "    </tr>\n",
              "    <tr>\n",
              "      <th>3</th>\n",
              "      <td>/content/drive/MyDrive/IndoML_Datathon_2022/va...</td>\n",
              "      <td>SPECIFICATION CHANGE PROPOSAL NO._89-395 _\\n \\...</td>\n",
              "      <td>/content/drive/MyDrive/IndoML_Datathon_2022/va...</td>\n",
              "    </tr>\n",
              "    <tr>\n",
              "      <th>4</th>\n",
              "      <td>/content/drive/MyDrive/IndoML_Datathon_2022/va...</td>\n",
              "      <td>2083779468\\n \\n  \\n \\n i\\n um Apuy puz\\n \\n On...</td>\n",
              "      <td>/content/drive/MyDrive/IndoML_Datathon_2022/va...</td>\n",
              "    </tr>\n",
              "  </tbody>\n",
              "</table>\n",
              "</div>\n",
              "      <button class=\"colab-df-convert\" onclick=\"convertToInteractive('df-1a87a5bf-e8c7-423f-98d3-f20b63076c2a')\"\n",
              "              title=\"Convert this dataframe to an interactive table.\"\n",
              "              style=\"display:none;\">\n",
              "        \n",
              "  <svg xmlns=\"http://www.w3.org/2000/svg\" height=\"24px\"viewBox=\"0 0 24 24\"\n",
              "       width=\"24px\">\n",
              "    <path d=\"M0 0h24v24H0V0z\" fill=\"none\"/>\n",
              "    <path d=\"M18.56 5.44l.94 2.06.94-2.06 2.06-.94-2.06-.94-.94-2.06-.94 2.06-2.06.94zm-11 1L8.5 8.5l.94-2.06 2.06-.94-2.06-.94L8.5 2.5l-.94 2.06-2.06.94zm10 10l.94 2.06.94-2.06 2.06-.94-2.06-.94-.94-2.06-.94 2.06-2.06.94z\"/><path d=\"M17.41 7.96l-1.37-1.37c-.4-.4-.92-.59-1.43-.59-.52 0-1.04.2-1.43.59L10.3 9.45l-7.72 7.72c-.78.78-.78 2.05 0 2.83L4 21.41c.39.39.9.59 1.41.59.51 0 1.02-.2 1.41-.59l7.78-7.78 2.81-2.81c.8-.78.8-2.07 0-2.86zM5.41 20L4 18.59l7.72-7.72 1.47 1.35L5.41 20z\"/>\n",
              "  </svg>\n",
              "      </button>\n",
              "      \n",
              "  <style>\n",
              "    .colab-df-container {\n",
              "      display:flex;\n",
              "      flex-wrap:wrap;\n",
              "      gap: 12px;\n",
              "    }\n",
              "\n",
              "    .colab-df-convert {\n",
              "      background-color: #E8F0FE;\n",
              "      border: none;\n",
              "      border-radius: 50%;\n",
              "      cursor: pointer;\n",
              "      display: none;\n",
              "      fill: #1967D2;\n",
              "      height: 32px;\n",
              "      padding: 0 0 0 0;\n",
              "      width: 32px;\n",
              "    }\n",
              "\n",
              "    .colab-df-convert:hover {\n",
              "      background-color: #E2EBFA;\n",
              "      box-shadow: 0px 1px 2px rgba(60, 64, 67, 0.3), 0px 1px 3px 1px rgba(60, 64, 67, 0.15);\n",
              "      fill: #174EA6;\n",
              "    }\n",
              "\n",
              "    [theme=dark] .colab-df-convert {\n",
              "      background-color: #3B4455;\n",
              "      fill: #D2E3FC;\n",
              "    }\n",
              "\n",
              "    [theme=dark] .colab-df-convert:hover {\n",
              "      background-color: #434B5C;\n",
              "      box-shadow: 0px 1px 3px 1px rgba(0, 0, 0, 0.15);\n",
              "      filter: drop-shadow(0px 1px 2px rgba(0, 0, 0, 0.3));\n",
              "      fill: #FFFFFF;\n",
              "    }\n",
              "  </style>\n",
              "\n",
              "      <script>\n",
              "        const buttonEl =\n",
              "          document.querySelector('#df-1a87a5bf-e8c7-423f-98d3-f20b63076c2a button.colab-df-convert');\n",
              "        buttonEl.style.display =\n",
              "          google.colab.kernel.accessAllowed ? 'block' : 'none';\n",
              "\n",
              "        async function convertToInteractive(key) {\n",
              "          const element = document.querySelector('#df-1a87a5bf-e8c7-423f-98d3-f20b63076c2a');\n",
              "          const dataTable =\n",
              "            await google.colab.kernel.invokeFunction('convertToInteractive',\n",
              "                                                     [key], {});\n",
              "          if (!dataTable) return;\n",
              "\n",
              "          const docLinkHtml = 'Like what you see? Visit the ' +\n",
              "            '<a target=\"_blank\" href=https://colab.research.google.com/notebooks/data_table.ipynb>data table notebook</a>'\n",
              "            + ' to learn more about interactive tables.';\n",
              "          element.innerHTML = '';\n",
              "          dataTable['output_type'] = 'display_data';\n",
              "          await google.colab.output.renderOutput(dataTable, element);\n",
              "          const docLink = document.createElement('div');\n",
              "          docLink.innerHTML = docLinkHtml;\n",
              "          element.appendChild(docLink);\n",
              "        }\n",
              "      </script>\n",
              "    </div>\n",
              "  </div>\n",
              "  "
            ]
          },
          "metadata": {},
          "execution_count": 8
        }
      ]
    },
    {
      "cell_type": "code",
      "source": [
        "\n",
        "def preprocess(text_string):\n",
        "    preprocessed_string = re.sub(r'[^\\w\\s]','',text_string)\n",
        "    preprocessed_string = preprocessed_string.replace('\\n',' ')\n",
        "    preprocessed_string = preprocessed_string.replace('_',' ')\n",
        "    preprocessed_string = re.sub(' +', ' ', preprocessed_string)\n",
        "    preprocessed_string =  \" \".join(preprocessed_string.split())\n",
        "    return preprocessed_string"
      ],
      "metadata": {
        "id": "pFLibpJgMaWI"
      },
      "execution_count": null,
      "outputs": []
    },
    {
      "cell_type": "code",
      "source": [
        "\n",
        "\n",
        "nlp = spacy.load(\"en_core_web_sm\")\n",
        "\n",
        "from nltk.corpus import stopwords\n",
        "nltk.download('stopwords')\n",
        "stops = stopwords.words(\"english\")\n",
        "\n",
        "def get_stopwords(file_path):\n",
        "    with open(file_path, \"r\") as fp:\n",
        "        content = fp.read()\n",
        "        stops = content.split(\"\\n\")\n",
        "        stops = stops[:-1]\n",
        "        fp.close()\n",
        "        return stops\n",
        "\n",
        "from nltk.corpus import stopwords\n",
        "nltk.download('stopwords')\n",
        "stops = stopwords.words(\"english\")\n",
        "\n",
        "def normalize(comment, lowercase, remove_stopwords):\n",
        "    if lowercase:\n",
        "        comment = comment.lower()\n",
        "    comment = nlp(comment)\n",
        "    lemmatized = list()\n",
        "    for word in comment:\n",
        "        lemma = word.lemma_.strip()\n",
        "        if lemma:\n",
        "            if not remove_stopwords or (remove_stopwords and lemma not in stops):\n",
        "                lemmatized.append(lemma)\n",
        "    return \" \".join(lemmatized)\n",
        "\n",
        "normalize(\"counting playing the Home\", lowercase=True, remove_stopwords=True)"
      ],
      "metadata": {
        "colab": {
          "base_uri": "https://localhost:8080/",
          "height": 105
        },
        "id": "67aB5Qn6Mjab",
        "outputId": "783ec80b-9742-4c16-983d-8548a4aab37f"
      },
      "execution_count": null,
      "outputs": [
        {
          "output_type": "stream",
          "name": "stderr",
          "text": [
            "[nltk_data] Downloading package stopwords to /root/nltk_data...\n",
            "[nltk_data]   Unzipping corpora/stopwords.zip.\n",
            "[nltk_data] Downloading package stopwords to /root/nltk_data...\n",
            "[nltk_data]   Package stopwords is already up-to-date!\n"
          ]
        },
        {
          "output_type": "execute_result",
          "data": {
            "text/plain": [
              "'count play home'"
            ],
            "application/vnd.google.colaboratory.intrinsic+json": {
              "type": "string"
            }
          },
          "metadata": {},
          "execution_count": 10
        }
      ]
    },
    {
      "cell_type": "code",
      "source": [
        "df['texts'] = [preprocess(str(this_text)) for this_text in df['texts']]\n",
        "df['texts'] = [normalize(this_text, lowercase=True, remove_stopwords=True) for this_text in df['texts']]\n",
        "df.head()"
      ],
      "metadata": {
        "colab": {
          "base_uri": "https://localhost:8080/",
          "height": 206
        },
        "id": "nlZ989-UMkZI",
        "outputId": "51e9b562-e9b2-43a5-d24d-32f323c4a9ea"
      },
      "execution_count": null,
      "outputs": [
        {
          "output_type": "execute_result",
          "data": {
            "text/plain": [
              "                                          text_paths  \\\n",
              "0  /content/drive/MyDrive/IndoML_Datathon_2022/va...   \n",
              "1  /content/drive/MyDrive/IndoML_Datathon_2022/va...   \n",
              "2  /content/drive/MyDrive/IndoML_Datathon_2022/va...   \n",
              "3  /content/drive/MyDrive/IndoML_Datathon_2022/va...   \n",
              "4  /content/drive/MyDrive/IndoML_Datathon_2022/va...   \n",
              "\n",
              "                                               texts  \\\n",
              "0  tobacco industry fire back synar say I keith w...   \n",
              "1  1820 inhalation sidestream cigarette smoke acc...   \n",
              "2         cai iese 4kwuz82105 laboratory corporation   \n",
              "3  specification change proposal 89395 brand kent...   \n",
              "4  2083779468 I um apuy puz sdjey deysiy ul sayse...   \n",
              "\n",
              "                                           img_paths  \n",
              "0  /content/drive/MyDrive/IndoML_Datathon_2022/va...  \n",
              "1  /content/drive/MyDrive/IndoML_Datathon_2022/va...  \n",
              "2  /content/drive/MyDrive/IndoML_Datathon_2022/va...  \n",
              "3  /content/drive/MyDrive/IndoML_Datathon_2022/va...  \n",
              "4  /content/drive/MyDrive/IndoML_Datathon_2022/va...  "
            ],
            "text/html": [
              "\n",
              "  <div id=\"df-b75fe8d3-29d9-4a8c-b8c5-7ba6c6eefdb7\">\n",
              "    <div class=\"colab-df-container\">\n",
              "      <div>\n",
              "<style scoped>\n",
              "    .dataframe tbody tr th:only-of-type {\n",
              "        vertical-align: middle;\n",
              "    }\n",
              "\n",
              "    .dataframe tbody tr th {\n",
              "        vertical-align: top;\n",
              "    }\n",
              "\n",
              "    .dataframe thead th {\n",
              "        text-align: right;\n",
              "    }\n",
              "</style>\n",
              "<table border=\"1\" class=\"dataframe\">\n",
              "  <thead>\n",
              "    <tr style=\"text-align: right;\">\n",
              "      <th></th>\n",
              "      <th>text_paths</th>\n",
              "      <th>texts</th>\n",
              "      <th>img_paths</th>\n",
              "    </tr>\n",
              "  </thead>\n",
              "  <tbody>\n",
              "    <tr>\n",
              "      <th>0</th>\n",
              "      <td>/content/drive/MyDrive/IndoML_Datathon_2022/va...</td>\n",
              "      <td>tobacco industry fire back synar say I keith w...</td>\n",
              "      <td>/content/drive/MyDrive/IndoML_Datathon_2022/va...</td>\n",
              "    </tr>\n",
              "    <tr>\n",
              "      <th>1</th>\n",
              "      <td>/content/drive/MyDrive/IndoML_Datathon_2022/va...</td>\n",
              "      <td>1820 inhalation sidestream cigarette smoke acc...</td>\n",
              "      <td>/content/drive/MyDrive/IndoML_Datathon_2022/va...</td>\n",
              "    </tr>\n",
              "    <tr>\n",
              "      <th>2</th>\n",
              "      <td>/content/drive/MyDrive/IndoML_Datathon_2022/va...</td>\n",
              "      <td>cai iese 4kwuz82105 laboratory corporation</td>\n",
              "      <td>/content/drive/MyDrive/IndoML_Datathon_2022/va...</td>\n",
              "    </tr>\n",
              "    <tr>\n",
              "      <th>3</th>\n",
              "      <td>/content/drive/MyDrive/IndoML_Datathon_2022/va...</td>\n",
              "      <td>specification change proposal 89395 brand kent...</td>\n",
              "      <td>/content/drive/MyDrive/IndoML_Datathon_2022/va...</td>\n",
              "    </tr>\n",
              "    <tr>\n",
              "      <th>4</th>\n",
              "      <td>/content/drive/MyDrive/IndoML_Datathon_2022/va...</td>\n",
              "      <td>2083779468 I um apuy puz sdjey deysiy ul sayse...</td>\n",
              "      <td>/content/drive/MyDrive/IndoML_Datathon_2022/va...</td>\n",
              "    </tr>\n",
              "  </tbody>\n",
              "</table>\n",
              "</div>\n",
              "      <button class=\"colab-df-convert\" onclick=\"convertToInteractive('df-b75fe8d3-29d9-4a8c-b8c5-7ba6c6eefdb7')\"\n",
              "              title=\"Convert this dataframe to an interactive table.\"\n",
              "              style=\"display:none;\">\n",
              "        \n",
              "  <svg xmlns=\"http://www.w3.org/2000/svg\" height=\"24px\"viewBox=\"0 0 24 24\"\n",
              "       width=\"24px\">\n",
              "    <path d=\"M0 0h24v24H0V0z\" fill=\"none\"/>\n",
              "    <path d=\"M18.56 5.44l.94 2.06.94-2.06 2.06-.94-2.06-.94-.94-2.06-.94 2.06-2.06.94zm-11 1L8.5 8.5l.94-2.06 2.06-.94-2.06-.94L8.5 2.5l-.94 2.06-2.06.94zm10 10l.94 2.06.94-2.06 2.06-.94-2.06-.94-.94-2.06-.94 2.06-2.06.94z\"/><path d=\"M17.41 7.96l-1.37-1.37c-.4-.4-.92-.59-1.43-.59-.52 0-1.04.2-1.43.59L10.3 9.45l-7.72 7.72c-.78.78-.78 2.05 0 2.83L4 21.41c.39.39.9.59 1.41.59.51 0 1.02-.2 1.41-.59l7.78-7.78 2.81-2.81c.8-.78.8-2.07 0-2.86zM5.41 20L4 18.59l7.72-7.72 1.47 1.35L5.41 20z\"/>\n",
              "  </svg>\n",
              "      </button>\n",
              "      \n",
              "  <style>\n",
              "    .colab-df-container {\n",
              "      display:flex;\n",
              "      flex-wrap:wrap;\n",
              "      gap: 12px;\n",
              "    }\n",
              "\n",
              "    .colab-df-convert {\n",
              "      background-color: #E8F0FE;\n",
              "      border: none;\n",
              "      border-radius: 50%;\n",
              "      cursor: pointer;\n",
              "      display: none;\n",
              "      fill: #1967D2;\n",
              "      height: 32px;\n",
              "      padding: 0 0 0 0;\n",
              "      width: 32px;\n",
              "    }\n",
              "\n",
              "    .colab-df-convert:hover {\n",
              "      background-color: #E2EBFA;\n",
              "      box-shadow: 0px 1px 2px rgba(60, 64, 67, 0.3), 0px 1px 3px 1px rgba(60, 64, 67, 0.15);\n",
              "      fill: #174EA6;\n",
              "    }\n",
              "\n",
              "    [theme=dark] .colab-df-convert {\n",
              "      background-color: #3B4455;\n",
              "      fill: #D2E3FC;\n",
              "    }\n",
              "\n",
              "    [theme=dark] .colab-df-convert:hover {\n",
              "      background-color: #434B5C;\n",
              "      box-shadow: 0px 1px 3px 1px rgba(0, 0, 0, 0.15);\n",
              "      filter: drop-shadow(0px 1px 2px rgba(0, 0, 0, 0.3));\n",
              "      fill: #FFFFFF;\n",
              "    }\n",
              "  </style>\n",
              "\n",
              "      <script>\n",
              "        const buttonEl =\n",
              "          document.querySelector('#df-b75fe8d3-29d9-4a8c-b8c5-7ba6c6eefdb7 button.colab-df-convert');\n",
              "        buttonEl.style.display =\n",
              "          google.colab.kernel.accessAllowed ? 'block' : 'none';\n",
              "\n",
              "        async function convertToInteractive(key) {\n",
              "          const element = document.querySelector('#df-b75fe8d3-29d9-4a8c-b8c5-7ba6c6eefdb7');\n",
              "          const dataTable =\n",
              "            await google.colab.kernel.invokeFunction('convertToInteractive',\n",
              "                                                     [key], {});\n",
              "          if (!dataTable) return;\n",
              "\n",
              "          const docLinkHtml = 'Like what you see? Visit the ' +\n",
              "            '<a target=\"_blank\" href=https://colab.research.google.com/notebooks/data_table.ipynb>data table notebook</a>'\n",
              "            + ' to learn more about interactive tables.';\n",
              "          element.innerHTML = '';\n",
              "          dataTable['output_type'] = 'display_data';\n",
              "          await google.colab.output.renderOutput(dataTable, element);\n",
              "          const docLink = document.createElement('div');\n",
              "          docLink.innerHTML = docLinkHtml;\n",
              "          element.appendChild(docLink);\n",
              "        }\n",
              "      </script>\n",
              "    </div>\n",
              "  </div>\n",
              "  "
            ]
          },
          "metadata": {},
          "execution_count": 11
        }
      ]
    },
    {
      "cell_type": "code",
      "source": [
        "from tensorflow.keras.preprocessing.text import Tokenizer\n",
        "from tensorflow.keras.preprocessing.sequence import pad_sequences"
      ],
      "metadata": {
        "id": "yDvdeh-aP7LF"
      },
      "execution_count": null,
      "outputs": []
    },
    {
      "cell_type": "code",
      "source": [
        "max_len = 500 \n",
        "# Fit the tokenizer\n",
        "tokenizer = Tokenizer(num_words = 65000)#hp num_words --> no.of unique words\n",
        "tokenizer.fit_on_texts(df['texts']) # --> check for np.unique on all documents and sum\n",
        "\n",
        "# sequence the input corpus and add zero padding upto 500 word\n",
        "\n",
        "\n",
        "test_sequence = tokenizer.texts_to_sequences(df['texts'])\n",
        "test_padded = pad_sequences(test_sequence, maxlen = max_len, truncating = \"post\", padding = \"post\" )\n",
        "\n",
        "\n",
        "test_tensor = [tf.convert_to_tensor(test_padded[i]) for i in range(test_padded.shape[0])]\n",
        "df['texts_embedding'] = test_tensor   \n"
      ],
      "metadata": {
        "id": "4fEkRrcASwRa"
      },
      "execution_count": null,
      "outputs": []
    },
    {
      "cell_type": "code",
      "source": [
        "def dataframe_to_dataset(dataframe):\n",
        "    d = {}\n",
        "    embed_tensor = []\n",
        "    for i in dataframe['texts_embedding']:\n",
        "        embed_tensor.append(tf.convert_to_tensor(i))\n",
        "\n",
        "    img_data_array = []\n",
        "    for this_path in dataframe['img_paths']:\n",
        "        image= cv2.imread(this_path, cv2.COLOR_BGR2RGB)\n",
        "        image=cv2.resize(image, (224, 224))\n",
        "        image=np.array(image)\n",
        "        #image = image.astype('float32')\n",
        "        #image /= 255 \n",
        "        image = np.stack((image,)*3, axis=-1)\n",
        "        img_data_array.append(tf.convert_to_tensor(image))\n",
        "\n",
        "    d['texts_embedding'] = embed_tensor\n",
        "    d['img_paths'] = img_data_array\n",
        "\n",
        "    ds = tf.data.Dataset.from_tensor_slices(d)\n",
        "    return ds"
      ],
      "metadata": {
        "id": "ISOqB5JhNRuV"
      },
      "execution_count": null,
      "outputs": []
    },
    {
      "cell_type": "code",
      "source": [
        "@tf.function\n",
        "def preprocess_image(image):\n",
        "    image = tf.image.per_image_standardization(image)\n",
        "    return image\n",
        "\n",
        "@tf.function\n",
        "def preprocess_text(sample):\n",
        "    pass\n",
        "\n",
        "@tf.function\n",
        "def preprocess_text_and_image(sample):\n",
        "    image = sample[\"img_paths\"]\n",
        "    text = sample['texts_embedding']\n",
        "    return {\"image_inputs\": image,  \"text_inputs\": text}\n",
        "   "
      ],
      "metadata": {
        "id": "n8UJ3gXPMuU8"
      },
      "execution_count": null,
      "outputs": []
    },
    {
      "cell_type": "code",
      "source": [
        "batch_size = 128\n",
        "auto = tf.data.experimental.AUTOTUNE\n",
        "\n",
        "def prepare_dataset(dataframe, training = True):\n",
        "    ds = dataframe_to_dataset(dataframe)\n",
        "    if training:\n",
        "        ds = ds.shuffle(len(df))\n",
        "    ds = ds.map(lambda x: (preprocess_text_and_image(x))).cache()\n",
        "   # ds = ds.map(lambda x,y: (preprocess_text_and_image(x), y)).cache()\n",
        "    ds = ds.batch(batch_size).prefetch(auto)\n",
        "    return ds"
      ],
      "metadata": {
        "id": "ZfEbbnl-M4cw"
      },
      "execution_count": null,
      "outputs": []
    },
    {
      "cell_type": "code",
      "source": [
        "test_ds = prepare_dataset(df, False)"
      ],
      "metadata": {
        "id": "Xomk56JMNHVL"
      },
      "execution_count": null,
      "outputs": []
    },
    {
      "cell_type": "code",
      "source": [
        "pred_labels = model.predict(test_ds)"
      ],
      "metadata": {
        "id": "8AZaAcf9MqNv"
      },
      "execution_count": null,
      "outputs": []
    },
    {
      "cell_type": "code",
      "source": [
        "\n",
        "\n",
        "data_root = pathlib.Path('/content/drive/MyDrive/IndoML_Datathon_2022/validation/validation')\n",
        "image_paths = []\n",
        "label = []\n",
        "for item in data_root.iterdir():\n",
        "  label = int(item.split('/')[-1].split('.')[0])\n",
        "  label_col.append(label)\n",
        "\n"
      ],
      "metadata": {
        "id": "5f0ZVZTevFeh"
      },
      "execution_count": null,
      "outputs": []
    },
    {
      "cell_type": "code",
      "source": [
        "import pandas as pd\n",
        "\n",
        "df = pd.DataFrame(list(zip(label_col,pred_labels)),colums = ['feature','labels'])\n"
      ],
      "metadata": {
        "id": "Nzq-Q9wbvzO-"
      },
      "execution_count": null,
      "outputs": []
    },
    {
      "cell_type": "code",
      "source": [
        "df.to_csv('/content/drive/MyDrive/IndoML_Datathon_2022/validation')"
      ],
      "metadata": {
        "id": "nT_M10sTwVnp"
      },
      "execution_count": null,
      "outputs": []
    }
  ]
}